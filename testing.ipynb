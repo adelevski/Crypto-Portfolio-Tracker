{
 "cells": [
  {
   "cell_type": "code",
   "execution_count": 3,
   "source": [
    "from funcs import get_total\r\n",
    "from funcs import get_prices\r\n",
    "\r\n",
    "import pandas as pd\r\n",
    "\r\n",
    "\r\n",
    "\r\n",
    "######## Data Fetching ################\r\n",
    "total_balance = get_total()\r\n",
    "prices = get_prices(total_balance)\r\n",
    "########################################"
   ],
   "outputs": [],
   "metadata": {}
  }
 ],
 "metadata": {
  "orig_nbformat": 4,
  "language_info": {
   "name": "python",
   "version": "3.8.7",
   "mimetype": "text/x-python",
   "codemirror_mode": {
    "name": "ipython",
    "version": 3
   },
   "pygments_lexer": "ipython3",
   "nbconvert_exporter": "python",
   "file_extension": ".py"
  },
  "kernelspec": {
   "name": "python3",
   "display_name": "Python 3.8.7 64-bit ('venv': venv)"
  },
  "interpreter": {
   "hash": "c9c899d1f62fb88b282c68b523bf11486d991ae94bf8232bf82d48b0ed705db4"
  }
 },
 "nbformat": 4,
 "nbformat_minor": 2
}