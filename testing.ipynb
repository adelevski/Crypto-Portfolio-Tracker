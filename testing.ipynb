{
 "cells": [
  {
   "cell_type": "code",
   "execution_count": 4,
   "metadata": {},
   "outputs": [],
   "source": [
    "from funcs import get_total, get_prices\n"
   ]
  },
  {
   "cell_type": "code",
   "execution_count": 2,
   "metadata": {},
   "outputs": [
    {
     "name": "stdout",
     "output_type": "stream",
     "text": [
      "coinbase\n",
      "coinbasepro\n",
      "binanceus\n",
      "kucoin\n"
     ]
    }
   ],
   "source": [
    "current_balance, all_holdings = get_total()"
   ]
  },
  {
   "cell_type": "code",
   "execution_count": 5,
   "metadata": {},
   "outputs": [
    {
     "name": "stdout",
     "output_type": "stream",
     "text": [
      "{'CELO': 3.204216987846897, 'COMP': 127.27896653771336, 'ETH': 2770.670340357961, 'FORTH': 5.241074611290253, 'GRT': 0.43969117015885284, 'NMR': 25.39091130954735, 'NU': 0.4925049123841865}\n",
      "{'ATOM': 28.638495218412984, 'BTC': 38604.10648220486, 'LINK': 16.942074681629396, 'NMR': 25.39091130954735, 'REN': 0.32516074297352826}\n",
      "{'ADA': 1.092510249595749, 'ALGO': 0.9910171720433382, 'BAT': 0.8349017192455931, 'BNB': 383.2941132049391, 'BTC': 38604.10648220486, 'ENJ': 1.8277887145049605, 'ETH': 2770.670340357961, 'LINK': 16.942074681629396, 'MATIC': 1.64635276147417, 'SOL': 109.36709360180397, 'VET': 0.05442084893224923, 'VTHO': 0.003461887998892707}\n",
      "{'BEPRO': 0.0031806171569065023, 'BTC': 38604.10648220486, 'CHSB': 0.6221947950263746, 'CHZ': 0.18722391002648608, 'ETH': 2770.670340357961, 'GO': 0.021863020512691587, 'KCS': 18.319318470192485, 'LYXe': 16.187207661157007, 'ONE': 0.18743612246699004, 'REVV': 0.10783142139712258, 'RFUEL': 0.039000224690998814, 'SNX': 5.525812566492041, 'THETA': 2.901130999727325, 'USDT': 1.0003894957597463}\n",
      "{'BTC': 38604.10648220486, 'DOT': 20.153060033899745, 'HBAR': 0.22950950258598934, 'STMX': 0.015087084368409326, 'VGX': 1.9221852663575296}\n",
      "{'ETH': 2770.670340357961, 'LTO': 0.2055590069949551}\n"
     ]
    }
   ],
   "source": [
    "all_holdings\n",
    "for exchange in all_holdings.values():\n",
    "    print(get_prices(exchange))"
   ]
  },
  {
   "cell_type": "code",
   "execution_count": null,
   "metadata": {},
   "outputs": [],
   "source": []
  }
 ],
 "metadata": {
  "interpreter": {
   "hash": "c9c899d1f62fb88b282c68b523bf11486d991ae94bf8232bf82d48b0ed705db4"
  },
  "kernelspec": {
   "display_name": "Python 3.8.7 64-bit ('venv': venv)",
   "name": "python3"
  },
  "language_info": {
   "codemirror_mode": {
    "name": "ipython",
    "version": 3
   },
   "file_extension": ".py",
   "mimetype": "text/x-python",
   "name": "python",
   "nbconvert_exporter": "python",
   "pygments_lexer": "ipython3",
   "version": "3.8.7"
  },
  "orig_nbformat": 4
 },
 "nbformat": 4,
 "nbformat_minor": 2
}
