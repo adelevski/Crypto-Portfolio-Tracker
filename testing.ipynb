{
 "cells": [
  {
   "cell_type": "code",
   "execution_count": 1,
   "source": [
    "from auth import *\r\n",
    "import pandas as pd"
   ],
   "outputs": [],
   "metadata": {}
  },
  {
   "cell_type": "code",
   "execution_count": 2,
   "source": [
    "cb_response = coinbase.fetch_balance()\r\n",
    "cb_holdings = {k:v for k,v in cb_response['total'].items() if v}\r\n",
    "print(cb_holdings)"
   ],
   "outputs": [
    {
     "output_type": "stream",
     "name": "stdout",
     "text": [
      "{'FORTH': 0.07769403, 'CELO': 2.04322946, 'NU': 10.79011433, 'NMR': 0.07721699, 'GRT': 3.98408543, 'COMP': 0.02602038, 'ETH': 0.34030175}\n"
     ]
    }
   ],
   "metadata": {}
  },
  {
   "cell_type": "code",
   "execution_count": 3,
   "source": [
    "cbpro_response = coinbasepro.fetch_balance()\r\n",
    "cbpro_holdings = {k:v for k,v in cbpro_response['total'].items() if v}\r\n",
    "print(cbpro_holdings)"
   ],
   "outputs": [
    {
     "output_type": "stream",
     "name": "stdout",
     "text": [
      "{'ATOM': 6.0, 'BTC': 0.00206957, 'LINK': 3.3, 'NMR': 3.026, 'REN': 89.817192, 'USD': 0.108319930673}\n"
     ]
    }
   ],
   "metadata": {}
  },
  {
   "cell_type": "code",
   "execution_count": 6,
   "source": [
    "bus_response = binanceus.fetch_balance()\r\n",
    "bus_holdings = {k:v for k,v in bus_response['total'].items() if v}\r\n",
    "print(bus_holdings)"
   ],
   "outputs": [
    {
     "output_type": "stream",
     "name": "stdout",
     "text": [
      "{'BTC': 0.005786, 'ETH': 0.06361, 'USD': 0.0072, 'ADA': 178.0, 'BAT': 157.34504, 'BNB': 0.90350585, 'LINK': 1.93, 'ALGO': 53.01645499, 'VET': 600.0, 'ENJ': 18.5, 'MATIC': 22.0, 'VTHO': 7517.714, 'SOL': 5.565}\n"
     ]
    }
   ],
   "metadata": {}
  },
  {
   "cell_type": "code",
   "execution_count": 8,
   "source": [
    "kcs_response = kucoin.fetch_balance()\r\n",
    "kcs_holdings = {k:v for k,v in kcs_response['total'].items() if v}\r\n",
    "print(kcs_holdings)"
   ],
   "outputs": [
    {
     "output_type": "stream",
     "name": "stdout",
     "text": [
      "{'ONE': 645.6924, 'CHSB': 137.5684, 'BEPRO': 6209.9915081, 'KCS': 4.1602, 'THETA': 7.0, 'GO': 1000.0, 'SNX': 3.0, 'LYXE': 2.0, 'REVV': 145.0, 'CHZ': 64.4093, 'RFUEL': 395.6846, 'BTC': 7e-08, 'USDT': 6.535e-05, 'ETH': 1e-08}\n"
     ]
    }
   ],
   "metadata": {}
  }
 ],
 "metadata": {
  "orig_nbformat": 4,
  "language_info": {
   "name": "python",
   "version": "3.8.7",
   "mimetype": "text/x-python",
   "codemirror_mode": {
    "name": "ipython",
    "version": 3
   },
   "pygments_lexer": "ipython3",
   "nbconvert_exporter": "python",
   "file_extension": ".py"
  },
  "kernelspec": {
   "name": "python3",
   "display_name": "Python 3.8.7 64-bit ('venv': venv)"
  },
  "interpreter": {
   "hash": "c9c899d1f62fb88b282c68b523bf11486d991ae94bf8232bf82d48b0ed705db4"
  }
 },
 "nbformat": 4,
 "nbformat_minor": 2
}